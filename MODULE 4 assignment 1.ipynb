{
 "cells": [
  {
   "cell_type": "code",
   "execution_count": 3,
   "id": "ebfbd60d-caf3-481b-967a-70474b85cdc7",
   "metadata": {},
   "outputs": [
    {
     "name": "stdout",
     "output_type": "stream",
     "text": [
      "Original list: [10, 20, 30, 'apple', True, 8.1, 30, 40]\n",
      "Reversed list: [40, 30, 8.1, True, 'apple', 30, 20, 10]\n"
     ]
    }
   ],
   "source": [
    "#Tasks To Be Performed:\n",
    "#1. Create a list named ‘myList’ that has the following elements: 10, 20, 30, ‘apple’, True, 8.10:\n",
    "# Creating myList\n",
    "myList = [10, 20, 30, 'apple', True, 8.10]\n",
    "#a. Now in the ‘myList’, append these values: 30, 40\n",
    "# Appending values 30 and 40\n",
    "myList.append(30)\n",
    "myList.append(40)\n",
    "#b. After that, reverse the elements of the ‘myList’ and store that in ‘reversedList’\n",
    "# Reversing the elements and storing in reversedList\n",
    "reversedList = list(reversed(myList))\n",
    "\n",
    "print(\"Original list:\", myList)\n",
    "print(\"Reversed list:\", reversedList)"
   ]
  },
  {
   "cell_type": "code",
   "execution_count": 4,
   "id": "38d140f2-9c6b-4c3e-ad38-ebde90b71905",
   "metadata": {},
   "outputs": [
    {
     "name": "stdout",
     "output_type": "stream",
     "text": [
      "Updated dictionary: {1: 'data', 2: 'information', 3: 'features'}\n",
      "Fetched data element: data\n"
     ]
    }
   ],
   "source": [
    "#2. Create a dictionary with key values as 1, 2, 3 and the values as ‘data’, ‘information’ and ‘text’:\n",
    "# Creating the dictionary\n",
    "my_dict = {1: 'data', 2: 'information', 3: 'text'}\n",
    "#a. After that, eliminate the ‘text’ value from the dictionary\n",
    "del my_dict[3]\n",
    "#b. Add ‘features’ in the dictionary\n",
    "my_dict[3] = 'features'\n",
    "#c. Fetch the ‘data’ element from the dictionary and display it in the output\n",
    "data_element = my_dict[1]\n",
    "\n",
    "print(\"Updated dictionary:\", my_dict)\n",
    "print(\"Fetched data element:\", data_element)"
   ]
  },
  {
   "cell_type": "code",
   "execution_count": 5,
   "id": "14fefdea-605e-4d74-b1e0-ad98df4967cc",
   "metadata": {},
   "outputs": [
    {
     "name": "stdout",
     "output_type": "stream",
     "text": [
      "my_tuple: (1, 2, 3, 'apple', 'mango')\n"
     ]
    }
   ],
   "source": [
    "#3. Create a tuple and add these elements 1, 2, 3, apple, mango in my_tuple.\n",
    "# Creating my_tuple\n",
    "my_tuple = (1, 2, 3, 'apple', 'mango')\n",
    "\n",
    "print(\"my_tuple:\", my_tuple)"
   ]
  },
  {
   "cell_type": "code",
   "execution_count": 9,
   "id": "dca6af6f-8d0a-4daf-9f2e-a2b336280c3d",
   "metadata": {},
   "outputs": [
    {
     "name": "stdout",
     "output_type": "stream",
     "text": [
      "numeric_tuple: (10, 20, 30, 40, 50)\n",
      "Minimum value in numeric_tuple: 10\n",
      "Concatenated tuple (r1): (1, 2, 3, 'apple', 'mango', 10, 20, 30, 40, 50)\n",
      "Duplicated tuple (newdupli): (1, 2, 3, 'apple', 'mango', 1, 2, 3, 'apple', 'mango')\n"
     ]
    }
   ],
   "source": [
    "#4. Create another tuple named numeric_tuple consisting of only integer values 10, 20, 30, 40, 50:\n",
    "#a. Find the minimum value from the numeric_tuple\n",
    "#b. Concatenate my_tuple with numeric_tuple and store the result in r1\n",
    "#c. Duplicate the tuple named my_tuple 2 times and store that in ‘newdupli’\n",
    "# Creating numeric_tuple\n",
    "numeric_tuple = (10, 20, 30, 40, 50)\n",
    "\n",
    "# Finding the minimum value\n",
    "min_value = min(numeric_tuple)\n",
    "\n",
    "# Concatenating my_tuple with numeric_tuple\n",
    "r1 = my_tuple + numeric_tuple\n",
    "\n",
    "# Duplicating my_tuple 2 times\n",
    "newdupli = my_tuple * 2\n",
    "\n",
    "print(\"numeric_tuple:\", numeric_tuple)\n",
    "print(\"Minimum value in numeric_tuple:\", min_value)\n",
    "print(\"Concatenated tuple (r1):\", r1)\n",
    "print(\"Duplicated tuple (newdupli):\", newdupli)"
   ]
  },
  {
   "cell_type": "code",
   "execution_count": 13,
   "id": "d2de768b-419a-4f67-ab9c-03d7460d3d43",
   "metadata": {},
   "outputs": [
    {
     "name": "stdout",
     "output_type": "stream",
     "text": [
      "Set1: {1, 2, 3, 4, 5}\n",
      "Set2: {1, 2, 3, 6, 7}\n",
      "Union of set1 and set2: {1, 2, 3, 4, 5, 6, 7}\n",
      "Intersection of set1 and set2: {1, 2, 3}\n",
      "Difference of set1 and set2: {4, 5}\n"
     ]
    }
   ],
   "source": [
    "#5. Create 2 sets with the names set1 and set2, where set1 contains {1,2,3,4,5} and set2 contains {2,3,7,6,1} Perform the below operation:\n",
    "#a. set1 union set2\n",
    "#b. set1 intersection set2\n",
    "#c. set1 difference set2\n",
    "# Creating sets\n",
    "set1 = {1, 2, 3, 4, 5}\n",
    "set2 = {2, 3, 7, 6, 1}\n",
    "\n",
    "# Performing union\n",
    "union_set = set1.union(set2)\n",
    "\n",
    "# Performing intersection\n",
    "intersection_set = set1.intersection(set2)\n",
    "\n",
    "# Performing difference\n",
    "difference_set = set1.difference(set2)\n",
    "\n",
    "print(\"Set1:\", set1)\n",
    "print(\"Set2:\", set2)\n",
    "print(\"Union of set1 and set2:\", union_set)\n",
    "print(\"Intersection of set1 and set2:\", intersection_set)\n",
    "print(\"Difference of set1 and set2:\", difference_set)"
   ]
  }
 ],
 "metadata": {
  "kernelspec": {
   "display_name": "Python 3 (ipykernel)",
   "language": "python",
   "name": "python3"
  },
  "language_info": {
   "codemirror_mode": {
    "name": "ipython",
    "version": 3
   },
   "file_extension": ".py",
   "mimetype": "text/x-python",
   "name": "python",
   "nbconvert_exporter": "python",
   "pygments_lexer": "ipython3",
   "version": "3.11.7"
  }
 },
 "nbformat": 4,
 "nbformat_minor": 5
}
