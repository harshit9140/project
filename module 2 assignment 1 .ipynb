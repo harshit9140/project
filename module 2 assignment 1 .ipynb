{
 "cells": [
  {
   "cell_type": "code",
   "execution_count": 3,
   "id": "895a887c-5951-4d49-867a-382b9123159b",
   "metadata": {},
   "outputs": [
    {
     "name": "stdout",
     "output_type": "stream",
     "text": [
      "120\n"
     ]
    }
   ],
   "source": [
    "#Tasks To Be Performed:\n",
    "#1. Create a function named ‘factor’ that can only accept 1 argument. The function should return the factorial of that number.\n",
    "def factor(n):\n",
    "    if n == 0 or n == 1:\n",
    "        return 1\n",
    "    else:\n",
    "        factorial = 1\n",
    "        for i in range(2, n + 1):\n",
    "            factorial *= i\n",
    "        return factorial\n",
    "\n",
    "# Example usage:\n",
    "print(factor(5)) "
   ]
  },
  {
   "cell_type": "code",
   "execution_count": 5,
   "id": "40df8a90-6c9d-4044-94e5-2d1eaad9f269",
   "metadata": {},
   "outputs": [
    {
     "name": "stdout",
     "output_type": "stream",
     "text": [
      "The string is containing the letter 's'.\n",
      "The string doesn't contain the letter 's'.\n"
     ]
    }
   ],
   "source": [
    "#2. Create a function named ‘check_string’, the function should accept a string data from the user and the function should \n",
    "#check if the user input contains the letter ‘s’ in it. If it contains the letter ‘s’ then print- ‘The string is coaining \n",
    "#the letter ‘s’’, if not then print- ‘The string doesn’t contain the letter ‘s’’.\n",
    "def check_string(input_string):\n",
    "    if 's' in input_string:\n",
    "        print(\"The string is containing the letter 's'.\")\n",
    "    else:\n",
    "        print(\"The string doesn't contain the letter 's'.\")\n",
    "\n",
    "# Example usage:\n",
    "check_string(\"test\")  \n",
    "check_string(\"apple\") "
   ]
  },
  {
   "cell_type": "code",
   "execution_count": 6,
   "id": "08c51dbd-a281-4b30-bf1f-863ee2c0376d",
   "metadata": {},
   "outputs": [
    {
     "name": "stdout",
     "output_type": "stream",
     "text": [
      "Hello, I am a student.\n"
     ]
    }
   ],
   "source": [
    "#3. Create a class named ‘student’ and inside the class, create a function named ‘fun1’- this method should accept the user defined input and return that value:\n",
    "class Student:\n",
    "    def fun1(self, user_input):\n",
    "        self.user_input = user_input\n",
    "        return self.user_input\n",
    "\n",
    "    def message(self):\n",
    "        print(self.user_input)\n",
    "#a. Create another method named- message() and that method should print the user defined input that we have defined in ‘fun1’.\n",
    "student = Student()\n",
    "user_input = student.fun1(\"Hello, I am a student.\")\n",
    "student.message()  "
   ]
  },
  {
   "cell_type": "code",
   "execution_count": 7,
   "id": "61161274-c726-45ca-913f-595400d9bf7b",
   "metadata": {},
   "outputs": [
    {
     "name": "stdout",
     "output_type": "stream",
     "text": [
      "10\n"
     ]
    }
   ],
   "source": [
    "#4. Create a lambda function that should double or multiply the number (that we will be passing in the lambda function) by 2. Store the lambda function in a variable named ‘double_num’.\n",
    "double_num = lambda x: x * 2\n",
    "# Example usage:\n",
    "print(double_num(5)) "
   ]
  },
  {
   "cell_type": "code",
   "execution_count": 8,
   "id": "eba18320-0888-4932-a022-951304b70510",
   "metadata": {},
   "outputs": [
    {
     "name": "stdout",
     "output_type": "stream",
     "text": [
      "The string is a palindrome.\n",
      "The string is not a palindrome.\n"
     ]
    }
   ],
   "source": [
    "#5. Take user input string and check whether that string is palindrome or not\n",
    "def is_palindrome(input_string):\n",
    "    cleaned_string = ''.join(e for e in input_string if e.isalnum()).lower()\n",
    "    if cleaned_string == cleaned_string[::-1]:\n",
    "        print(\"The string is a palindrome.\")\n",
    "    else:\n",
    "        print(\"The string is not a palindrome.\")\n",
    "\n",
    "# Example usage:\n",
    "is_palindrome(\"A man a plan a canal Panama\")  \n",
    "is_palindrome(\"hello\")  "
   ]
  },
  {
   "cell_type": "code",
   "execution_count": null,
   "id": "6622c13b-3f77-4f07-8fbf-8937c15cb90c",
   "metadata": {},
   "outputs": [],
   "source": []
  }
 ],
 "metadata": {
  "kernelspec": {
   "display_name": "Python 3 (ipykernel)",
   "language": "python",
   "name": "python3"
  },
  "language_info": {
   "codemirror_mode": {
    "name": "ipython",
    "version": 3
   },
   "file_extension": ".py",
   "mimetype": "text/x-python",
   "name": "python",
   "nbconvert_exporter": "python",
   "pygments_lexer": "ipython3",
   "version": "3.11.7"
  }
 },
 "nbformat": 4,
 "nbformat_minor": 5
}
