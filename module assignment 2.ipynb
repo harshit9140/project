{
 "cells": [
  {
   "cell_type": "markdown",
   "id": "03868503-68b5-4530-9d5b-fae52bb5c843",
   "metadata": {},
   "source": [
    "#Problem Statement:\n",
    "You work in XYZ Corporation as a Data Analyst. Your company has told you to work with the looping statements.\n",
    "#Tasks To Be Performed:\n",
    "1. Print the numbers from 1 to 10 using while loop.\n"
   ]
  },
  {
   "cell_type": "code",
   "execution_count": null,
   "id": "d5a912c8-0145-422c-9bc0-fc5b4fcdcd9e",
   "metadata": {},
   "outputs": [],
   "source": []
  },
  {
   "cell_type": "code",
   "execution_count": 1,
   "id": "49f9226e-adbe-401d-bbc4-715d0f72f94d",
   "metadata": {},
   "outputs": [
    {
     "name": "stdout",
     "output_type": "stream",
     "text": [
      "1\n",
      "2\n",
      "3\n",
      "4\n",
      "5\n",
      "6\n",
      "7\n",
      "8\n",
      "9\n",
      "10\n"
     ]
    }
   ],
   "source": [
    "# Initialize the variable\n",
    "current_number = 1\n",
    "# Use a while loop to print numbers from 1 to 10\n",
    "while current_number <= 10:\n",
    "    print(current_number)\n",
    "    current_number += 1"
   ]
  },
  {
   "cell_type": "code",
   "execution_count": null,
   "id": "482e694f-9a8e-4ddd-876e-19a0ae4031aa",
   "metadata": {},
   "outputs": [],
   "source": []
  }
 ],
 "metadata": {
  "kernelspec": {
   "display_name": "Python 3 (ipykernel)",
   "language": "python",
   "name": "python3"
  },
  "language_info": {
   "codemirror_mode": {
    "name": "ipython",
    "version": 3
   },
   "file_extension": ".py",
   "mimetype": "text/x-python",
   "name": "python",
   "nbconvert_exporter": "python",
   "pygments_lexer": "ipython3",
   "version": "3.11.7"
  }
 },
 "nbformat": 4,
 "nbformat_minor": 5
}
